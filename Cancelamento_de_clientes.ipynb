{
  "nbformat": 4,
  "nbformat_minor": 0,
  "metadata": {
    "colab": {
      "provenance": [],
      "authorship_tag": "ABX9TyMJhRQl3uPl54MekTl2dNSO",
      "include_colab_link": true
    },
    "kernelspec": {
      "name": "python3",
      "display_name": "Python 3"
    },
    "language_info": {
      "name": "python"
    }
  },
  "cells": [
    {
      "cell_type": "markdown",
      "metadata": {
        "id": "view-in-github",
        "colab_type": "text"
      },
      "source": [
        "<a href=\"https://colab.research.google.com/github/henriquesbarai/Analise_de_dados_diagnostica/blob/main/Cancelamento_de_clientes.ipynb\" target=\"_parent\"><img src=\"https://colab.research.google.com/assets/colab-badge.svg\" alt=\"Open In Colab\"/></a>"
      ]
    },
    {
      "cell_type": "markdown",
      "source": [
        "# Projeto de Análise de Dados\n",
        "\n",
        "## Case - Cancelamento de Clientes\n",
        "\"*Você foi contratado por uma empresa com mais de 800 mil clientes para um projeto de Dados. Recentemente, a empresa percebeu que, da sua base total de clientes, a maioria é de clientes inativos, que já cancelaram o serviço. Precisando melhorar seus resultados, ela quer conseguir entender os principais motivos desses cancelamentos e quais as ações mais eficientes para reduzir esse número.*\"\n",
        "\n",
        "Base de dados: https://drive.google.com/file/d/11GesbxiTPbtCKCoWJ941Rj_iPolCj2m5/view?usp=drive_link"
      ],
      "metadata": {
        "id": "dA0BI8NXWaiI"
      }
    },
    {
      "cell_type": "markdown",
      "source": [
        "## Entendendo o projeto"
      ],
      "metadata": {
        "id": "KDef-kxRb9n6"
      }
    },
    {
      "cell_type": "markdown",
      "source": [
        "Vamos dividir o projeto em 6 passos:\n",
        "\n",
        "1.   **Importação da base de dados**: tornar a base disponível para o trabalho;\n",
        "2.   **Visualização a base de dados**: entender quais são os dados que vamos analisar;\n",
        "3.   **Tratamento dos dados**: remover possíveis problemas na base de dados e informações desnecessárias;\n",
        "4.   **Análise inicial dos dados**: entender como os cancelamentos estão acontecendo;\n",
        "5.   **Análise profunda dos dados**: determinar as principais causas;\n",
        "6.   **Solução**: propor uma possível forma de se resolver o problema pelo que a empresa está passando."
      ],
      "metadata": {
        "id": "40wNc9-XXV02"
      }
    },
    {
      "cell_type": "markdown",
      "source": [
        "Para este projeto, utilizaremos as bibliotecas a seguir:\n",
        "\n",
        "\n",
        "*   Pandas: contém as ferramentas que possibilitam a realização de análises de dados.\n",
        "*   Plotly: contém as ferramentas que possibilitam a criação de gráficos."
      ],
      "metadata": {
        "id": "e5qbxhzbYFhY"
      }
    },
    {
      "cell_type": "code",
      "source": [
        "import pandas as pd\n",
        "import plotly.express as px"
      ],
      "metadata": {
        "id": "fzPjpV9PYT_G"
      },
      "execution_count": 1,
      "outputs": []
    },
    {
      "cell_type": "markdown",
      "source": [
        "## Desenvolvendo o projeto"
      ],
      "metadata": {
        "id": "ZeQ5gus9cPPO"
      }
    },
    {
      "cell_type": "markdown",
      "source": [
        "Vamos seguir o passo a passo que criamos."
      ],
      "metadata": {
        "id": "jhfTpR-ccWfj"
      }
    },
    {
      "cell_type": "markdown",
      "source": [
        "### 1. Importação da base de dados"
      ],
      "metadata": {
        "id": "GFPuxfMoWpUu"
      }
    },
    {
      "cell_type": "markdown",
      "source": [
        "Comecemos então pela importação da base de dados:"
      ],
      "metadata": {
        "id": "T78PY9W1XJbS"
      }
    },
    {
      "cell_type": "code",
      "execution_count": 2,
      "metadata": {
        "id": "SvpdVXvBWMk3"
      },
      "outputs": [],
      "source": [
        "# Obtendo o ID da base de dados através do link\n",
        "url = 'https://drive.google.com/file/d/11GesbxiTPbtCKCoWJ941Rj_iPolCj2m5/view?usp=drive_link'\n",
        "id = url.split('/')[-2]\n",
        "\n",
        "# Importando o arquivo para o código\n",
        "path = 'https://drive.google.com/uc?export=download&id='+id\n",
        "\n",
        "# Criando dataframe do Pandas através da base de dados fornecida\n",
        "base = pd.read_csv(path)"
      ]
    },
    {
      "cell_type": "markdown",
      "source": [
        "### 2. Visualização da base de dados"
      ],
      "metadata": {
        "id": "viSIdCAqa_Rf"
      }
    },
    {
      "cell_type": "markdown",
      "source": [
        "Com a base de dados importada e o dataframe do Pandas criado, podemos visualizar os dados:"
      ],
      "metadata": {
        "id": "Ah8ZQpsObGf3"
      }
    },
    {
      "cell_type": "code",
      "source": [
        "display(base)"
      ],
      "metadata": {
        "colab": {
          "base_uri": "https://localhost:8080/",
          "height": 443
        },
        "id": "QvreqlOebWsK",
        "outputId": "1dc3f96f-3d56-4575-8700-7d2f3040c689"
      },
      "execution_count": 3,
      "outputs": [
        {
          "output_type": "display_data",
          "data": {
            "text/plain": [
              "        CustomerID  idade    sexo  tempo_como_cliente  frequencia_uso  \\\n",
              "0              2.0   30.0  Female                39.0            14.0   \n",
              "1              3.0   65.0  Female                49.0             1.0   \n",
              "2              4.0   55.0  Female                14.0             4.0   \n",
              "3              5.0   58.0    Male                38.0            21.0   \n",
              "4              6.0   23.0    Male                32.0            20.0   \n",
              "...            ...    ...     ...                 ...             ...   \n",
              "881661    449995.0   42.0    Male                54.0            15.0   \n",
              "881662    449996.0   25.0  Female                 8.0            13.0   \n",
              "881663    449997.0   26.0    Male                35.0            27.0   \n",
              "881664    449998.0   28.0    Male                55.0            14.0   \n",
              "881665    449999.0   31.0    Male                48.0            20.0   \n",
              "\n",
              "        ligacoes_callcenter  dias_atraso assinatura duracao_contrato  \\\n",
              "0                       5.0         18.0   Standard           Annual   \n",
              "1                      10.0          8.0      Basic          Monthly   \n",
              "2                       6.0         18.0      Basic        Quarterly   \n",
              "3                       7.0          7.0   Standard          Monthly   \n",
              "4                       5.0          8.0      Basic          Monthly   \n",
              "...                     ...          ...        ...              ...   \n",
              "881661                  1.0          3.0    Premium           Annual   \n",
              "881662                  1.0         20.0    Premium           Annual   \n",
              "881663                  1.0          5.0   Standard        Quarterly   \n",
              "881664                  2.0          0.0   Standard        Quarterly   \n",
              "881665                  1.0         14.0    Premium        Quarterly   \n",
              "\n",
              "        total_gasto  meses_ultima_interacao  cancelou  \n",
              "0            932.00                    17.0       1.0  \n",
              "1            557.00                     6.0       1.0  \n",
              "2            185.00                     3.0       1.0  \n",
              "3            396.00                    29.0       1.0  \n",
              "4            617.00                    20.0       1.0  \n",
              "...             ...                     ...       ...  \n",
              "881661       716.38                     8.0       0.0  \n",
              "881662       745.38                     2.0       0.0  \n",
              "881663       977.31                     9.0       0.0  \n",
              "881664       602.55                     2.0       0.0  \n",
              "881665       567.77                    21.0       0.0  \n",
              "\n",
              "[881666 rows x 12 columns]"
            ],
            "text/html": [
              "\n",
              "  <div id=\"df-8d0b933c-5f47-4159-8de0-dd9dbfe3108f\" class=\"colab-df-container\">\n",
              "    <div>\n",
              "<style scoped>\n",
              "    .dataframe tbody tr th:only-of-type {\n",
              "        vertical-align: middle;\n",
              "    }\n",
              "\n",
              "    .dataframe tbody tr th {\n",
              "        vertical-align: top;\n",
              "    }\n",
              "\n",
              "    .dataframe thead th {\n",
              "        text-align: right;\n",
              "    }\n",
              "</style>\n",
              "<table border=\"1\" class=\"dataframe\">\n",
              "  <thead>\n",
              "    <tr style=\"text-align: right;\">\n",
              "      <th></th>\n",
              "      <th>CustomerID</th>\n",
              "      <th>idade</th>\n",
              "      <th>sexo</th>\n",
              "      <th>tempo_como_cliente</th>\n",
              "      <th>frequencia_uso</th>\n",
              "      <th>ligacoes_callcenter</th>\n",
              "      <th>dias_atraso</th>\n",
              "      <th>assinatura</th>\n",
              "      <th>duracao_contrato</th>\n",
              "      <th>total_gasto</th>\n",
              "      <th>meses_ultima_interacao</th>\n",
              "      <th>cancelou</th>\n",
              "    </tr>\n",
              "  </thead>\n",
              "  <tbody>\n",
              "    <tr>\n",
              "      <th>0</th>\n",
              "      <td>2.0</td>\n",
              "      <td>30.0</td>\n",
              "      <td>Female</td>\n",
              "      <td>39.0</td>\n",
              "      <td>14.0</td>\n",
              "      <td>5.0</td>\n",
              "      <td>18.0</td>\n",
              "      <td>Standard</td>\n",
              "      <td>Annual</td>\n",
              "      <td>932.00</td>\n",
              "      <td>17.0</td>\n",
              "      <td>1.0</td>\n",
              "    </tr>\n",
              "    <tr>\n",
              "      <th>1</th>\n",
              "      <td>3.0</td>\n",
              "      <td>65.0</td>\n",
              "      <td>Female</td>\n",
              "      <td>49.0</td>\n",
              "      <td>1.0</td>\n",
              "      <td>10.0</td>\n",
              "      <td>8.0</td>\n",
              "      <td>Basic</td>\n",
              "      <td>Monthly</td>\n",
              "      <td>557.00</td>\n",
              "      <td>6.0</td>\n",
              "      <td>1.0</td>\n",
              "    </tr>\n",
              "    <tr>\n",
              "      <th>2</th>\n",
              "      <td>4.0</td>\n",
              "      <td>55.0</td>\n",
              "      <td>Female</td>\n",
              "      <td>14.0</td>\n",
              "      <td>4.0</td>\n",
              "      <td>6.0</td>\n",
              "      <td>18.0</td>\n",
              "      <td>Basic</td>\n",
              "      <td>Quarterly</td>\n",
              "      <td>185.00</td>\n",
              "      <td>3.0</td>\n",
              "      <td>1.0</td>\n",
              "    </tr>\n",
              "    <tr>\n",
              "      <th>3</th>\n",
              "      <td>5.0</td>\n",
              "      <td>58.0</td>\n",
              "      <td>Male</td>\n",
              "      <td>38.0</td>\n",
              "      <td>21.0</td>\n",
              "      <td>7.0</td>\n",
              "      <td>7.0</td>\n",
              "      <td>Standard</td>\n",
              "      <td>Monthly</td>\n",
              "      <td>396.00</td>\n",
              "      <td>29.0</td>\n",
              "      <td>1.0</td>\n",
              "    </tr>\n",
              "    <tr>\n",
              "      <th>4</th>\n",
              "      <td>6.0</td>\n",
              "      <td>23.0</td>\n",
              "      <td>Male</td>\n",
              "      <td>32.0</td>\n",
              "      <td>20.0</td>\n",
              "      <td>5.0</td>\n",
              "      <td>8.0</td>\n",
              "      <td>Basic</td>\n",
              "      <td>Monthly</td>\n",
              "      <td>617.00</td>\n",
              "      <td>20.0</td>\n",
              "      <td>1.0</td>\n",
              "    </tr>\n",
              "    <tr>\n",
              "      <th>...</th>\n",
              "      <td>...</td>\n",
              "      <td>...</td>\n",
              "      <td>...</td>\n",
              "      <td>...</td>\n",
              "      <td>...</td>\n",
              "      <td>...</td>\n",
              "      <td>...</td>\n",
              "      <td>...</td>\n",
              "      <td>...</td>\n",
              "      <td>...</td>\n",
              "      <td>...</td>\n",
              "      <td>...</td>\n",
              "    </tr>\n",
              "    <tr>\n",
              "      <th>881661</th>\n",
              "      <td>449995.0</td>\n",
              "      <td>42.0</td>\n",
              "      <td>Male</td>\n",
              "      <td>54.0</td>\n",
              "      <td>15.0</td>\n",
              "      <td>1.0</td>\n",
              "      <td>3.0</td>\n",
              "      <td>Premium</td>\n",
              "      <td>Annual</td>\n",
              "      <td>716.38</td>\n",
              "      <td>8.0</td>\n",
              "      <td>0.0</td>\n",
              "    </tr>\n",
              "    <tr>\n",
              "      <th>881662</th>\n",
              "      <td>449996.0</td>\n",
              "      <td>25.0</td>\n",
              "      <td>Female</td>\n",
              "      <td>8.0</td>\n",
              "      <td>13.0</td>\n",
              "      <td>1.0</td>\n",
              "      <td>20.0</td>\n",
              "      <td>Premium</td>\n",
              "      <td>Annual</td>\n",
              "      <td>745.38</td>\n",
              "      <td>2.0</td>\n",
              "      <td>0.0</td>\n",
              "    </tr>\n",
              "    <tr>\n",
              "      <th>881663</th>\n",
              "      <td>449997.0</td>\n",
              "      <td>26.0</td>\n",
              "      <td>Male</td>\n",
              "      <td>35.0</td>\n",
              "      <td>27.0</td>\n",
              "      <td>1.0</td>\n",
              "      <td>5.0</td>\n",
              "      <td>Standard</td>\n",
              "      <td>Quarterly</td>\n",
              "      <td>977.31</td>\n",
              "      <td>9.0</td>\n",
              "      <td>0.0</td>\n",
              "    </tr>\n",
              "    <tr>\n",
              "      <th>881664</th>\n",
              "      <td>449998.0</td>\n",
              "      <td>28.0</td>\n",
              "      <td>Male</td>\n",
              "      <td>55.0</td>\n",
              "      <td>14.0</td>\n",
              "      <td>2.0</td>\n",
              "      <td>0.0</td>\n",
              "      <td>Standard</td>\n",
              "      <td>Quarterly</td>\n",
              "      <td>602.55</td>\n",
              "      <td>2.0</td>\n",
              "      <td>0.0</td>\n",
              "    </tr>\n",
              "    <tr>\n",
              "      <th>881665</th>\n",
              "      <td>449999.0</td>\n",
              "      <td>31.0</td>\n",
              "      <td>Male</td>\n",
              "      <td>48.0</td>\n",
              "      <td>20.0</td>\n",
              "      <td>1.0</td>\n",
              "      <td>14.0</td>\n",
              "      <td>Premium</td>\n",
              "      <td>Quarterly</td>\n",
              "      <td>567.77</td>\n",
              "      <td>21.0</td>\n",
              "      <td>0.0</td>\n",
              "    </tr>\n",
              "  </tbody>\n",
              "</table>\n",
              "<p>881666 rows × 12 columns</p>\n",
              "</div>\n",
              "    <div class=\"colab-df-buttons\">\n",
              "\n",
              "  <div class=\"colab-df-container\">\n",
              "    <button class=\"colab-df-convert\" onclick=\"convertToInteractive('df-8d0b933c-5f47-4159-8de0-dd9dbfe3108f')\"\n",
              "            title=\"Convert this dataframe to an interactive table.\"\n",
              "            style=\"display:none;\">\n",
              "\n",
              "  <svg xmlns=\"http://www.w3.org/2000/svg\" height=\"24px\" viewBox=\"0 -960 960 960\">\n",
              "    <path d=\"M120-120v-720h720v720H120Zm60-500h600v-160H180v160Zm220 220h160v-160H400v160Zm0 220h160v-160H400v160ZM180-400h160v-160H180v160Zm440 0h160v-160H620v160ZM180-180h160v-160H180v160Zm440 0h160v-160H620v160Z\"/>\n",
              "  </svg>\n",
              "    </button>\n",
              "\n",
              "  <style>\n",
              "    .colab-df-container {\n",
              "      display:flex;\n",
              "      gap: 12px;\n",
              "    }\n",
              "\n",
              "    .colab-df-convert {\n",
              "      background-color: #E8F0FE;\n",
              "      border: none;\n",
              "      border-radius: 50%;\n",
              "      cursor: pointer;\n",
              "      display: none;\n",
              "      fill: #1967D2;\n",
              "      height: 32px;\n",
              "      padding: 0 0 0 0;\n",
              "      width: 32px;\n",
              "    }\n",
              "\n",
              "    .colab-df-convert:hover {\n",
              "      background-color: #E2EBFA;\n",
              "      box-shadow: 0px 1px 2px rgba(60, 64, 67, 0.3), 0px 1px 3px 1px rgba(60, 64, 67, 0.15);\n",
              "      fill: #174EA6;\n",
              "    }\n",
              "\n",
              "    .colab-df-buttons div {\n",
              "      margin-bottom: 4px;\n",
              "    }\n",
              "\n",
              "    [theme=dark] .colab-df-convert {\n",
              "      background-color: #3B4455;\n",
              "      fill: #D2E3FC;\n",
              "    }\n",
              "\n",
              "    [theme=dark] .colab-df-convert:hover {\n",
              "      background-color: #434B5C;\n",
              "      box-shadow: 0px 1px 3px 1px rgba(0, 0, 0, 0.15);\n",
              "      filter: drop-shadow(0px 1px 2px rgba(0, 0, 0, 0.3));\n",
              "      fill: #FFFFFF;\n",
              "    }\n",
              "  </style>\n",
              "\n",
              "    <script>\n",
              "      const buttonEl =\n",
              "        document.querySelector('#df-8d0b933c-5f47-4159-8de0-dd9dbfe3108f button.colab-df-convert');\n",
              "      buttonEl.style.display =\n",
              "        google.colab.kernel.accessAllowed ? 'block' : 'none';\n",
              "\n",
              "      async function convertToInteractive(key) {\n",
              "        const element = document.querySelector('#df-8d0b933c-5f47-4159-8de0-dd9dbfe3108f');\n",
              "        const dataTable =\n",
              "          await google.colab.kernel.invokeFunction('convertToInteractive',\n",
              "                                                    [key], {});\n",
              "        if (!dataTable) return;\n",
              "\n",
              "        const docLinkHtml = 'Like what you see? Visit the ' +\n",
              "          '<a target=\"_blank\" href=https://colab.research.google.com/notebooks/data_table.ipynb>data table notebook</a>'\n",
              "          + ' to learn more about interactive tables.';\n",
              "        element.innerHTML = '';\n",
              "        dataTable['output_type'] = 'display_data';\n",
              "        await google.colab.output.renderOutput(dataTable, element);\n",
              "        const docLink = document.createElement('div');\n",
              "        docLink.innerHTML = docLinkHtml;\n",
              "        element.appendChild(docLink);\n",
              "      }\n",
              "    </script>\n",
              "  </div>\n",
              "\n",
              "\n",
              "<div id=\"df-44abb4ec-8752-4c3f-a10f-9e7b8200a898\">\n",
              "  <button class=\"colab-df-quickchart\" onclick=\"quickchart('df-44abb4ec-8752-4c3f-a10f-9e7b8200a898')\"\n",
              "            title=\"Suggest charts.\"\n",
              "            style=\"display:none;\">\n",
              "\n",
              "<svg xmlns=\"http://www.w3.org/2000/svg\" height=\"24px\"viewBox=\"0 0 24 24\"\n",
              "     width=\"24px\">\n",
              "    <g>\n",
              "        <path d=\"M19 3H5c-1.1 0-2 .9-2 2v14c0 1.1.9 2 2 2h14c1.1 0 2-.9 2-2V5c0-1.1-.9-2-2-2zM9 17H7v-7h2v7zm4 0h-2V7h2v10zm4 0h-2v-4h2v4z\"/>\n",
              "    </g>\n",
              "</svg>\n",
              "  </button>\n",
              "\n",
              "<style>\n",
              "  .colab-df-quickchart {\n",
              "      --bg-color: #E8F0FE;\n",
              "      --fill-color: #1967D2;\n",
              "      --hover-bg-color: #E2EBFA;\n",
              "      --hover-fill-color: #174EA6;\n",
              "      --disabled-fill-color: #AAA;\n",
              "      --disabled-bg-color: #DDD;\n",
              "  }\n",
              "\n",
              "  [theme=dark] .colab-df-quickchart {\n",
              "      --bg-color: #3B4455;\n",
              "      --fill-color: #D2E3FC;\n",
              "      --hover-bg-color: #434B5C;\n",
              "      --hover-fill-color: #FFFFFF;\n",
              "      --disabled-bg-color: #3B4455;\n",
              "      --disabled-fill-color: #666;\n",
              "  }\n",
              "\n",
              "  .colab-df-quickchart {\n",
              "    background-color: var(--bg-color);\n",
              "    border: none;\n",
              "    border-radius: 50%;\n",
              "    cursor: pointer;\n",
              "    display: none;\n",
              "    fill: var(--fill-color);\n",
              "    height: 32px;\n",
              "    padding: 0;\n",
              "    width: 32px;\n",
              "  }\n",
              "\n",
              "  .colab-df-quickchart:hover {\n",
              "    background-color: var(--hover-bg-color);\n",
              "    box-shadow: 0 1px 2px rgba(60, 64, 67, 0.3), 0 1px 3px 1px rgba(60, 64, 67, 0.15);\n",
              "    fill: var(--button-hover-fill-color);\n",
              "  }\n",
              "\n",
              "  .colab-df-quickchart-complete:disabled,\n",
              "  .colab-df-quickchart-complete:disabled:hover {\n",
              "    background-color: var(--disabled-bg-color);\n",
              "    fill: var(--disabled-fill-color);\n",
              "    box-shadow: none;\n",
              "  }\n",
              "\n",
              "  .colab-df-spinner {\n",
              "    border: 2px solid var(--fill-color);\n",
              "    border-color: transparent;\n",
              "    border-bottom-color: var(--fill-color);\n",
              "    animation:\n",
              "      spin 1s steps(1) infinite;\n",
              "  }\n",
              "\n",
              "  @keyframes spin {\n",
              "    0% {\n",
              "      border-color: transparent;\n",
              "      border-bottom-color: var(--fill-color);\n",
              "      border-left-color: var(--fill-color);\n",
              "    }\n",
              "    20% {\n",
              "      border-color: transparent;\n",
              "      border-left-color: var(--fill-color);\n",
              "      border-top-color: var(--fill-color);\n",
              "    }\n",
              "    30% {\n",
              "      border-color: transparent;\n",
              "      border-left-color: var(--fill-color);\n",
              "      border-top-color: var(--fill-color);\n",
              "      border-right-color: var(--fill-color);\n",
              "    }\n",
              "    40% {\n",
              "      border-color: transparent;\n",
              "      border-right-color: var(--fill-color);\n",
              "      border-top-color: var(--fill-color);\n",
              "    }\n",
              "    60% {\n",
              "      border-color: transparent;\n",
              "      border-right-color: var(--fill-color);\n",
              "    }\n",
              "    80% {\n",
              "      border-color: transparent;\n",
              "      border-right-color: var(--fill-color);\n",
              "      border-bottom-color: var(--fill-color);\n",
              "    }\n",
              "    90% {\n",
              "      border-color: transparent;\n",
              "      border-bottom-color: var(--fill-color);\n",
              "    }\n",
              "  }\n",
              "</style>\n",
              "\n",
              "  <script>\n",
              "    async function quickchart(key) {\n",
              "      const quickchartButtonEl =\n",
              "        document.querySelector('#' + key + ' button');\n",
              "      quickchartButtonEl.disabled = true;  // To prevent multiple clicks.\n",
              "      quickchartButtonEl.classList.add('colab-df-spinner');\n",
              "      try {\n",
              "        const charts = await google.colab.kernel.invokeFunction(\n",
              "            'suggestCharts', [key], {});\n",
              "      } catch (error) {\n",
              "        console.error('Error during call to suggestCharts:', error);\n",
              "      }\n",
              "      quickchartButtonEl.classList.remove('colab-df-spinner');\n",
              "      quickchartButtonEl.classList.add('colab-df-quickchart-complete');\n",
              "    }\n",
              "    (() => {\n",
              "      let quickchartButtonEl =\n",
              "        document.querySelector('#df-44abb4ec-8752-4c3f-a10f-9e7b8200a898 button');\n",
              "      quickchartButtonEl.style.display =\n",
              "        google.colab.kernel.accessAllowed ? 'block' : 'none';\n",
              "    })();\n",
              "  </script>\n",
              "</div>\n",
              "    </div>\n",
              "  </div>\n"
            ]
          },
          "metadata": {}
        }
      ]
    },
    {
      "cell_type": "markdown",
      "source": [
        "Aqui, já podemos ver que temos uma informação que não vai ajudar na nossa análise, a coluna *CustomerID*, pois ela é única para cada cliente e não nos informa nada que possa ser relacionado a um possível cancelamento. Todas as outras colunas serão úteis para nós.\n",
        "\n",
        "Uma última observação relevante aqui é de que, na coluna *cancelou*, o número 1 indica que aquele cliente cancelou o serviço, enquanto 0 indica que ele ainda é um cliente ativo."
      ],
      "metadata": {
        "id": "E6_3SEYMbg4Y"
      }
    },
    {
      "cell_type": "markdown",
      "source": [
        "### 3. Tratamento dos dados"
      ],
      "metadata": {
        "id": "DrTHJJLnce4l"
      }
    },
    {
      "cell_type": "markdown",
      "source": [
        "Podemos começar a etapa de tratamento dos dados. Vamos, primeiramente, descartar as colunas irrelevantes para a análise (no caso, apenas a coluna *CostumerID*)."
      ],
      "metadata": {
        "id": "Pco2HOh6c6rJ"
      }
    },
    {
      "cell_type": "code",
      "source": [
        "base = base.drop(\"CustomerID\", axis = 1)"
      ],
      "metadata": {
        "id": "XgbBFLWrdBYC"
      },
      "execution_count": 4,
      "outputs": []
    },
    {
      "cell_type": "markdown",
      "source": [
        "Agora, precisamos verificar também se não possuímos linhas com informações vazias."
      ],
      "metadata": {
        "id": "zNFR9IVadD4r"
      }
    },
    {
      "cell_type": "code",
      "source": [
        "display(base.info())"
      ],
      "metadata": {
        "colab": {
          "base_uri": "https://localhost:8080/",
          "height": 347
        },
        "id": "djHlkZOzdKwW",
        "outputId": "827fdae1-580e-4880-ebae-49ac5f1ada43"
      },
      "execution_count": 5,
      "outputs": [
        {
          "output_type": "stream",
          "name": "stdout",
          "text": [
            "<class 'pandas.core.frame.DataFrame'>\n",
            "RangeIndex: 881666 entries, 0 to 881665\n",
            "Data columns (total 11 columns):\n",
            " #   Column                  Non-Null Count   Dtype  \n",
            "---  ------                  --------------   -----  \n",
            " 0   idade                   881664 non-null  float64\n",
            " 1   sexo                    881664 non-null  object \n",
            " 2   tempo_como_cliente      881663 non-null  float64\n",
            " 3   frequencia_uso          881663 non-null  float64\n",
            " 4   ligacoes_callcenter     881664 non-null  float64\n",
            " 5   dias_atraso             881664 non-null  float64\n",
            " 6   assinatura              881661 non-null  object \n",
            " 7   duracao_contrato        881663 non-null  object \n",
            " 8   total_gasto             881664 non-null  float64\n",
            " 9   meses_ultima_interacao  881664 non-null  float64\n",
            " 10  cancelou                881664 non-null  float64\n",
            "dtypes: float64(8), object(3)\n",
            "memory usage: 74.0+ MB\n"
          ]
        },
        {
          "output_type": "display_data",
          "data": {
            "text/plain": [
              "None"
            ]
          },
          "metadata": {}
        }
      ]
    },
    {
      "cell_type": "markdown",
      "source": [
        "Podemos ver que, sim, temos linhas com informações vazias, na coluna *assinatura*, por exemplo, mas são um total despresível perto do valor total de linhas da base de dados. Assim, não haverá nenhuma perda relevante de informações caso removamos essas linhas, que é o que faremos."
      ],
      "metadata": {
        "id": "Wjzco5GCdRXj"
      }
    },
    {
      "cell_type": "code",
      "source": [
        "base = base.dropna()\n",
        "display(base.info())"
      ],
      "metadata": {
        "colab": {
          "base_uri": "https://localhost:8080/",
          "height": 347
        },
        "id": "ha4M62JPdVjR",
        "outputId": "d81a3333-77be-4298-9f93-d5a7e867c96b"
      },
      "execution_count": 6,
      "outputs": [
        {
          "output_type": "stream",
          "name": "stdout",
          "text": [
            "<class 'pandas.core.frame.DataFrame'>\n",
            "Int64Index: 881659 entries, 0 to 881665\n",
            "Data columns (total 11 columns):\n",
            " #   Column                  Non-Null Count   Dtype  \n",
            "---  ------                  --------------   -----  \n",
            " 0   idade                   881659 non-null  float64\n",
            " 1   sexo                    881659 non-null  object \n",
            " 2   tempo_como_cliente      881659 non-null  float64\n",
            " 3   frequencia_uso          881659 non-null  float64\n",
            " 4   ligacoes_callcenter     881659 non-null  float64\n",
            " 5   dias_atraso             881659 non-null  float64\n",
            " 6   assinatura              881659 non-null  object \n",
            " 7   duracao_contrato        881659 non-null  object \n",
            " 8   total_gasto             881659 non-null  float64\n",
            " 9   meses_ultima_interacao  881659 non-null  float64\n",
            " 10  cancelou                881659 non-null  float64\n",
            "dtypes: float64(8), object(3)\n",
            "memory usage: 80.7+ MB\n"
          ]
        },
        {
          "output_type": "display_data",
          "data": {
            "text/plain": [
              "None"
            ]
          },
          "metadata": {}
        }
      ]
    },
    {
      "cell_type": "markdown",
      "source": [
        "### 4. Análise inicial dos dados"
      ],
      "metadata": {
        "id": "O6pGFejpcnzx"
      }
    },
    {
      "cell_type": "markdown",
      "source": [
        "Com os dados já tratados, podemos começar a nossa análise. Para isso, vamos entender como se encontra atualmente a proporção de cancelamentos."
      ],
      "metadata": {
        "id": "rMVLoTRaddn-"
      }
    },
    {
      "cell_type": "code",
      "source": [
        "display(base[\"cancelou\"].value_counts())   # conta o total dos valores\n",
        "display(base[\"cancelou\"].value_counts(normalize=True))   # informa as proporções relativas ao total"
      ],
      "metadata": {
        "colab": {
          "base_uri": "https://localhost:8080/",
          "height": 121
        },
        "id": "u0_cSYSxdg4K",
        "outputId": "2772d16b-694d-4dc5-9132-4ea2524f2931"
      },
      "execution_count": 7,
      "outputs": [
        {
          "output_type": "display_data",
          "data": {
            "text/plain": [
              "1.0    499993\n",
              "0.0    381666\n",
              "Name: cancelou, dtype: int64"
            ]
          },
          "metadata": {}
        },
        {
          "output_type": "display_data",
          "data": {
            "text/plain": [
              "1.0    0.567105\n",
              "0.0    0.432895\n",
              "Name: cancelou, dtype: float64"
            ]
          },
          "metadata": {}
        }
      ]
    },
    {
      "cell_type": "markdown",
      "source": [
        "Podemos ver que, atualmente, na base de dados da empresa, temos 56,7% de clientes inativos e apenas 43,3% de clientes ativos. Vamos tentar analisar mais profundamente as informações da base de dados para tentar encontrar possíveis explicações para esse valor indesejado.\n",
        "\n",
        "Para nos ajudar na busca de informações relevantes, vamos criar gráficos para visualizar a distribuição dos cancelamentos de acordo com cada coluna da base. Utilizaremos agora a biblioteca *plotly.express* que já havíamos importado."
      ],
      "metadata": {
        "id": "4WKTtHobdm4-"
      }
    },
    {
      "cell_type": "code",
      "source": [
        "for coluna in base.columns:\n",
        "    grafico = px.histogram(base, x=coluna, color=\"cancelou\", width=600)\n",
        "    grafico.show()"
      ],
      "metadata": {
        "id": "L3dEbi6Cdv4B"
      },
      "execution_count": null,
      "outputs": []
    },
    {
      "cell_type": "markdown",
      "source": [
        "Os gráficos que chamam mais atenção são os com as seguintes informações.\n",
        "\n",
        "*   **Duração do contrato**: todos os clientes com plano mensal cancelam o serviço;\n",
        "*   **Ligações para o call center**: todos os clientes que realizam mais de 5 ligações cancelam o serviço;\n",
        "*   **Idade**: todos os clientes com mais de 50 anos cancelam o serviço;\n",
        "*   **Dias de atraso**: todos os clientes que atrasam mais de 20 dias cancelam o serviço;\n",
        "*   **Sexo**: proporcionalmente, mulheres cancelam mais do que homens.\n",
        "\n",
        "Vamos olhar com mais atenção para essas informações."
      ],
      "metadata": {
        "id": "dcdZxaTUd_Td"
      }
    },
    {
      "cell_type": "markdown",
      "source": [
        "### 5. Análise profunda dos dados"
      ],
      "metadata": {
        "id": "UVYliOByctha"
      }
    },
    {
      "cell_type": "markdown",
      "source": [
        "Em primeiro lugar, note que todos os clientes com plano mensal cancelaram o pedido. Vejamos esse dado de maneira mais profunda."
      ],
      "metadata": {
        "id": "MGV_HrSneY58"
      }
    },
    {
      "cell_type": "code",
      "source": [
        "# Obtendo a porcentagem de clientes em cada tipo de contrato\n",
        "display(base[\"duracao_contrato\"].value_counts(normalize=True))\n",
        "\n",
        "# Exibindo uma tabela com a média referente a cada tipo de contrato com relação às outras informações da base de dados\n",
        "display(base.groupby(\"duracao_contrato\").mean(numeric_only=True))"
      ],
      "metadata": {
        "colab": {
          "base_uri": "https://localhost:8080/",
          "height": 244
        },
        "id": "YCLhj9lneapd",
        "outputId": "f4a8bdb6-4b41-4eae-8e76-37c2521ef9c7"
      },
      "execution_count": 9,
      "outputs": [
        {
          "output_type": "display_data",
          "data": {
            "text/plain": [
              "Annual       0.401964\n",
              "Quarterly    0.400448\n",
              "Monthly      0.197588\n",
              "Name: duracao_contrato, dtype: float64"
            ]
          },
          "metadata": {}
        },
        {
          "output_type": "display_data",
          "data": {
            "text/plain": [
              "                      idade  tempo_como_cliente  frequencia_uso  \\\n",
              "duracao_contrato                                                  \n",
              "Annual            38.842165           31.446186       15.880213   \n",
              "Monthly           41.552407           30.538555       15.499274   \n",
              "Quarterly         38.830938           31.419916       15.886662   \n",
              "\n",
              "                  ligacoes_callcenter  dias_atraso  total_gasto  \\\n",
              "duracao_contrato                                                  \n",
              "Annual                       3.263401    12.465156   651.697738   \n",
              "Monthly                      4.985649    15.007267   550.616435   \n",
              "Quarterly                    3.265245    12.460863   651.427783   \n",
              "\n",
              "                  meses_ultima_interacao  cancelou  \n",
              "duracao_contrato                                    \n",
              "Annual                         14.236107  0.460760  \n",
              "Monthly                        15.478012  1.000000  \n",
              "Quarterly                      14.234544  0.460255  "
            ],
            "text/html": [
              "\n",
              "  <div id=\"df-f0878b59-4616-4b97-a710-3f889fde2566\" class=\"colab-df-container\">\n",
              "    <div>\n",
              "<style scoped>\n",
              "    .dataframe tbody tr th:only-of-type {\n",
              "        vertical-align: middle;\n",
              "    }\n",
              "\n",
              "    .dataframe tbody tr th {\n",
              "        vertical-align: top;\n",
              "    }\n",
              "\n",
              "    .dataframe thead th {\n",
              "        text-align: right;\n",
              "    }\n",
              "</style>\n",
              "<table border=\"1\" class=\"dataframe\">\n",
              "  <thead>\n",
              "    <tr style=\"text-align: right;\">\n",
              "      <th></th>\n",
              "      <th>idade</th>\n",
              "      <th>tempo_como_cliente</th>\n",
              "      <th>frequencia_uso</th>\n",
              "      <th>ligacoes_callcenter</th>\n",
              "      <th>dias_atraso</th>\n",
              "      <th>total_gasto</th>\n",
              "      <th>meses_ultima_interacao</th>\n",
              "      <th>cancelou</th>\n",
              "    </tr>\n",
              "    <tr>\n",
              "      <th>duracao_contrato</th>\n",
              "      <th></th>\n",
              "      <th></th>\n",
              "      <th></th>\n",
              "      <th></th>\n",
              "      <th></th>\n",
              "      <th></th>\n",
              "      <th></th>\n",
              "      <th></th>\n",
              "    </tr>\n",
              "  </thead>\n",
              "  <tbody>\n",
              "    <tr>\n",
              "      <th>Annual</th>\n",
              "      <td>38.842165</td>\n",
              "      <td>31.446186</td>\n",
              "      <td>15.880213</td>\n",
              "      <td>3.263401</td>\n",
              "      <td>12.465156</td>\n",
              "      <td>651.697738</td>\n",
              "      <td>14.236107</td>\n",
              "      <td>0.460760</td>\n",
              "    </tr>\n",
              "    <tr>\n",
              "      <th>Monthly</th>\n",
              "      <td>41.552407</td>\n",
              "      <td>30.538555</td>\n",
              "      <td>15.499274</td>\n",
              "      <td>4.985649</td>\n",
              "      <td>15.007267</td>\n",
              "      <td>550.616435</td>\n",
              "      <td>15.478012</td>\n",
              "      <td>1.000000</td>\n",
              "    </tr>\n",
              "    <tr>\n",
              "      <th>Quarterly</th>\n",
              "      <td>38.830938</td>\n",
              "      <td>31.419916</td>\n",
              "      <td>15.886662</td>\n",
              "      <td>3.265245</td>\n",
              "      <td>12.460863</td>\n",
              "      <td>651.427783</td>\n",
              "      <td>14.234544</td>\n",
              "      <td>0.460255</td>\n",
              "    </tr>\n",
              "  </tbody>\n",
              "</table>\n",
              "</div>\n",
              "    <div class=\"colab-df-buttons\">\n",
              "\n",
              "  <div class=\"colab-df-container\">\n",
              "    <button class=\"colab-df-convert\" onclick=\"convertToInteractive('df-f0878b59-4616-4b97-a710-3f889fde2566')\"\n",
              "            title=\"Convert this dataframe to an interactive table.\"\n",
              "            style=\"display:none;\">\n",
              "\n",
              "  <svg xmlns=\"http://www.w3.org/2000/svg\" height=\"24px\" viewBox=\"0 -960 960 960\">\n",
              "    <path d=\"M120-120v-720h720v720H120Zm60-500h600v-160H180v160Zm220 220h160v-160H400v160Zm0 220h160v-160H400v160ZM180-400h160v-160H180v160Zm440 0h160v-160H620v160ZM180-180h160v-160H180v160Zm440 0h160v-160H620v160Z\"/>\n",
              "  </svg>\n",
              "    </button>\n",
              "\n",
              "  <style>\n",
              "    .colab-df-container {\n",
              "      display:flex;\n",
              "      gap: 12px;\n",
              "    }\n",
              "\n",
              "    .colab-df-convert {\n",
              "      background-color: #E8F0FE;\n",
              "      border: none;\n",
              "      border-radius: 50%;\n",
              "      cursor: pointer;\n",
              "      display: none;\n",
              "      fill: #1967D2;\n",
              "      height: 32px;\n",
              "      padding: 0 0 0 0;\n",
              "      width: 32px;\n",
              "    }\n",
              "\n",
              "    .colab-df-convert:hover {\n",
              "      background-color: #E2EBFA;\n",
              "      box-shadow: 0px 1px 2px rgba(60, 64, 67, 0.3), 0px 1px 3px 1px rgba(60, 64, 67, 0.15);\n",
              "      fill: #174EA6;\n",
              "    }\n",
              "\n",
              "    .colab-df-buttons div {\n",
              "      margin-bottom: 4px;\n",
              "    }\n",
              "\n",
              "    [theme=dark] .colab-df-convert {\n",
              "      background-color: #3B4455;\n",
              "      fill: #D2E3FC;\n",
              "    }\n",
              "\n",
              "    [theme=dark] .colab-df-convert:hover {\n",
              "      background-color: #434B5C;\n",
              "      box-shadow: 0px 1px 3px 1px rgba(0, 0, 0, 0.15);\n",
              "      filter: drop-shadow(0px 1px 2px rgba(0, 0, 0, 0.3));\n",
              "      fill: #FFFFFF;\n",
              "    }\n",
              "  </style>\n",
              "\n",
              "    <script>\n",
              "      const buttonEl =\n",
              "        document.querySelector('#df-f0878b59-4616-4b97-a710-3f889fde2566 button.colab-df-convert');\n",
              "      buttonEl.style.display =\n",
              "        google.colab.kernel.accessAllowed ? 'block' : 'none';\n",
              "\n",
              "      async function convertToInteractive(key) {\n",
              "        const element = document.querySelector('#df-f0878b59-4616-4b97-a710-3f889fde2566');\n",
              "        const dataTable =\n",
              "          await google.colab.kernel.invokeFunction('convertToInteractive',\n",
              "                                                    [key], {});\n",
              "        if (!dataTable) return;\n",
              "\n",
              "        const docLinkHtml = 'Like what you see? Visit the ' +\n",
              "          '<a target=\"_blank\" href=https://colab.research.google.com/notebooks/data_table.ipynb>data table notebook</a>'\n",
              "          + ' to learn more about interactive tables.';\n",
              "        element.innerHTML = '';\n",
              "        dataTable['output_type'] = 'display_data';\n",
              "        await google.colab.output.renderOutput(dataTable, element);\n",
              "        const docLink = document.createElement('div');\n",
              "        docLink.innerHTML = docLinkHtml;\n",
              "        element.appendChild(docLink);\n",
              "      }\n",
              "    </script>\n",
              "  </div>\n",
              "\n",
              "\n",
              "<div id=\"df-43a78008-591a-46b2-8307-3ddd5c5e501e\">\n",
              "  <button class=\"colab-df-quickchart\" onclick=\"quickchart('df-43a78008-591a-46b2-8307-3ddd5c5e501e')\"\n",
              "            title=\"Suggest charts.\"\n",
              "            style=\"display:none;\">\n",
              "\n",
              "<svg xmlns=\"http://www.w3.org/2000/svg\" height=\"24px\"viewBox=\"0 0 24 24\"\n",
              "     width=\"24px\">\n",
              "    <g>\n",
              "        <path d=\"M19 3H5c-1.1 0-2 .9-2 2v14c0 1.1.9 2 2 2h14c1.1 0 2-.9 2-2V5c0-1.1-.9-2-2-2zM9 17H7v-7h2v7zm4 0h-2V7h2v10zm4 0h-2v-4h2v4z\"/>\n",
              "    </g>\n",
              "</svg>\n",
              "  </button>\n",
              "\n",
              "<style>\n",
              "  .colab-df-quickchart {\n",
              "      --bg-color: #E8F0FE;\n",
              "      --fill-color: #1967D2;\n",
              "      --hover-bg-color: #E2EBFA;\n",
              "      --hover-fill-color: #174EA6;\n",
              "      --disabled-fill-color: #AAA;\n",
              "      --disabled-bg-color: #DDD;\n",
              "  }\n",
              "\n",
              "  [theme=dark] .colab-df-quickchart {\n",
              "      --bg-color: #3B4455;\n",
              "      --fill-color: #D2E3FC;\n",
              "      --hover-bg-color: #434B5C;\n",
              "      --hover-fill-color: #FFFFFF;\n",
              "      --disabled-bg-color: #3B4455;\n",
              "      --disabled-fill-color: #666;\n",
              "  }\n",
              "\n",
              "  .colab-df-quickchart {\n",
              "    background-color: var(--bg-color);\n",
              "    border: none;\n",
              "    border-radius: 50%;\n",
              "    cursor: pointer;\n",
              "    display: none;\n",
              "    fill: var(--fill-color);\n",
              "    height: 32px;\n",
              "    padding: 0;\n",
              "    width: 32px;\n",
              "  }\n",
              "\n",
              "  .colab-df-quickchart:hover {\n",
              "    background-color: var(--hover-bg-color);\n",
              "    box-shadow: 0 1px 2px rgba(60, 64, 67, 0.3), 0 1px 3px 1px rgba(60, 64, 67, 0.15);\n",
              "    fill: var(--button-hover-fill-color);\n",
              "  }\n",
              "\n",
              "  .colab-df-quickchart-complete:disabled,\n",
              "  .colab-df-quickchart-complete:disabled:hover {\n",
              "    background-color: var(--disabled-bg-color);\n",
              "    fill: var(--disabled-fill-color);\n",
              "    box-shadow: none;\n",
              "  }\n",
              "\n",
              "  .colab-df-spinner {\n",
              "    border: 2px solid var(--fill-color);\n",
              "    border-color: transparent;\n",
              "    border-bottom-color: var(--fill-color);\n",
              "    animation:\n",
              "      spin 1s steps(1) infinite;\n",
              "  }\n",
              "\n",
              "  @keyframes spin {\n",
              "    0% {\n",
              "      border-color: transparent;\n",
              "      border-bottom-color: var(--fill-color);\n",
              "      border-left-color: var(--fill-color);\n",
              "    }\n",
              "    20% {\n",
              "      border-color: transparent;\n",
              "      border-left-color: var(--fill-color);\n",
              "      border-top-color: var(--fill-color);\n",
              "    }\n",
              "    30% {\n",
              "      border-color: transparent;\n",
              "      border-left-color: var(--fill-color);\n",
              "      border-top-color: var(--fill-color);\n",
              "      border-right-color: var(--fill-color);\n",
              "    }\n",
              "    40% {\n",
              "      border-color: transparent;\n",
              "      border-right-color: var(--fill-color);\n",
              "      border-top-color: var(--fill-color);\n",
              "    }\n",
              "    60% {\n",
              "      border-color: transparent;\n",
              "      border-right-color: var(--fill-color);\n",
              "    }\n",
              "    80% {\n",
              "      border-color: transparent;\n",
              "      border-right-color: var(--fill-color);\n",
              "      border-bottom-color: var(--fill-color);\n",
              "    }\n",
              "    90% {\n",
              "      border-color: transparent;\n",
              "      border-bottom-color: var(--fill-color);\n",
              "    }\n",
              "  }\n",
              "</style>\n",
              "\n",
              "  <script>\n",
              "    async function quickchart(key) {\n",
              "      const quickchartButtonEl =\n",
              "        document.querySelector('#' + key + ' button');\n",
              "      quickchartButtonEl.disabled = true;  // To prevent multiple clicks.\n",
              "      quickchartButtonEl.classList.add('colab-df-spinner');\n",
              "      try {\n",
              "        const charts = await google.colab.kernel.invokeFunction(\n",
              "            'suggestCharts', [key], {});\n",
              "      } catch (error) {\n",
              "        console.error('Error during call to suggestCharts:', error);\n",
              "      }\n",
              "      quickchartButtonEl.classList.remove('colab-df-spinner');\n",
              "      quickchartButtonEl.classList.add('colab-df-quickchart-complete');\n",
              "    }\n",
              "    (() => {\n",
              "      let quickchartButtonEl =\n",
              "        document.querySelector('#df-43a78008-591a-46b2-8307-3ddd5c5e501e button');\n",
              "      quickchartButtonEl.style.display =\n",
              "        google.colab.kernel.accessAllowed ? 'block' : 'none';\n",
              "    })();\n",
              "  </script>\n",
              "</div>\n",
              "    </div>\n",
              "  </div>\n"
            ]
          },
          "metadata": {}
        }
      ]
    },
    {
      "cell_type": "markdown",
      "source": [
        "O fato de todos o contratos **mensais** serem cancelados corresponde a quase 20% do total de clientes da empresa. Vamos ver abaixo o impacto que teríamos com a remoção deste formato."
      ],
      "metadata": {
        "id": "JZrxyo8QeehN"
      }
    },
    {
      "cell_type": "code",
      "source": [
        "base = base[base[\"duracao_contrato\"]!=\"Monthly\"]\n",
        "display(base[\"cancelou\"].value_counts(normalize=True))"
      ],
      "metadata": {
        "colab": {
          "base_uri": "https://localhost:8080/",
          "height": 69
        },
        "id": "mjvs_-54f28f",
        "outputId": "61c908b8-ef47-4ac3-e653-3d07f0d87c87"
      },
      "execution_count": 10,
      "outputs": [
        {
          "output_type": "display_data",
          "data": {
            "text/plain": [
              "0.0    0.539492\n",
              "1.0    0.460508\n",
              "Name: cancelou, dtype: float64"
            ]
          },
          "metadata": {}
        }
      ]
    },
    {
      "cell_type": "markdown",
      "source": [
        "Observe que, sem essa modalidade de contrato, os cancelamentos caem de 56,7% para 46%."
      ],
      "metadata": {
        "id": "WMXeD44Of-fw"
      }
    },
    {
      "cell_type": "markdown",
      "source": [
        "Olhemos com mais atenção agora para as ligações para o callcenter."
      ],
      "metadata": {
        "id": "GJRq4AGlf_h7"
      }
    },
    {
      "cell_type": "code",
      "source": [
        "display(base[\"ligacoes_callcenter\"].value_counts(normalize=True))\n",
        "display(base.groupby(\"ligacoes_callcenter\").mean(numeric_only=True))"
      ],
      "metadata": {
        "colab": {
          "base_uri": "https://localhost:8080/",
          "height": 634
        },
        "id": "dW703NcxgFTf",
        "outputId": "31a143eb-f6f2-4d74-c3ad-3a1ff6506766"
      },
      "execution_count": 11,
      "outputs": [
        {
          "output_type": "display_data",
          "data": {
            "text/plain": [
              "0.0     0.175098\n",
              "1.0     0.173746\n",
              "2.0     0.165529\n",
              "3.0     0.126564\n",
              "4.0     0.087094\n",
              "5.0     0.048467\n",
              "10.0    0.045261\n",
              "7.0     0.044741\n",
              "6.0     0.044577\n",
              "9.0     0.044466\n",
              "8.0     0.044458\n",
              "Name: ligacoes_callcenter, dtype: float64"
            ]
          },
          "metadata": {}
        },
        {
          "output_type": "display_data",
          "data": {
            "text/plain": [
              "                         idade  tempo_como_cliente  frequencia_uso  \\\n",
              "ligacoes_callcenter                                                  \n",
              "0.0                  35.890550           31.873678       16.011883   \n",
              "1.0                  35.993304           31.895352       16.089101   \n",
              "2.0                  36.733929           31.754645       16.014807   \n",
              "3.0                  40.559896           31.719828       15.997320   \n",
              "4.0                  43.197955           31.184776       15.835186   \n",
              "5.0                  42.162331           30.831370       15.675338   \n",
              "6.0                  41.567859           30.517123       15.552702   \n",
              "7.0                  41.367307           30.516302       15.506887   \n",
              "8.0                  41.538153           30.494213       15.452690   \n",
              "9.0                  41.565707           30.490368       15.525590   \n",
              "10.0                 41.538601           30.754903       15.586321   \n",
              "\n",
              "                     dias_atraso  total_gasto  meses_ultima_interacao  \\\n",
              "ligacoes_callcenter                                                     \n",
              "0.0                    11.303647   696.941234               13.634419   \n",
              "1.0                    11.320249   698.782840               13.699366   \n",
              "2.0                    11.312167   696.901322               13.711829   \n",
              "3.0                    11.716255   679.738660               13.794679   \n",
              "4.0                    12.579664   648.215543               14.287592   \n",
              "5.0                    14.659123   566.900267               15.271640   \n",
              "6.0                    14.924911   548.751885               15.496195   \n",
              "7.0                    15.008593   550.554444               15.492102   \n",
              "8.0                    14.995930   548.480734               15.455551   \n",
              "9.0                    15.122830   547.738446               15.562274   \n",
              "10.0                   15.013804   551.607195               15.567520   \n",
              "\n",
              "                     cancelou  \n",
              "ligacoes_callcenter            \n",
              "0.0                  0.213475  \n",
              "1.0                  0.212786  \n",
              "2.0                  0.221769  \n",
              "3.0                  0.312672  \n",
              "4.0                  0.477984  \n",
              "5.0                  0.923180  \n",
              "6.0                  1.000000  \n",
              "7.0                  1.000000  \n",
              "8.0                  1.000000  \n",
              "9.0                  1.000000  \n",
              "10.0                 1.000000  "
            ],
            "text/html": [
              "\n",
              "  <div id=\"df-b8c78f17-5c07-4710-94ef-5b07b22a5500\" class=\"colab-df-container\">\n",
              "    <div>\n",
              "<style scoped>\n",
              "    .dataframe tbody tr th:only-of-type {\n",
              "        vertical-align: middle;\n",
              "    }\n",
              "\n",
              "    .dataframe tbody tr th {\n",
              "        vertical-align: top;\n",
              "    }\n",
              "\n",
              "    .dataframe thead th {\n",
              "        text-align: right;\n",
              "    }\n",
              "</style>\n",
              "<table border=\"1\" class=\"dataframe\">\n",
              "  <thead>\n",
              "    <tr style=\"text-align: right;\">\n",
              "      <th></th>\n",
              "      <th>idade</th>\n",
              "      <th>tempo_como_cliente</th>\n",
              "      <th>frequencia_uso</th>\n",
              "      <th>dias_atraso</th>\n",
              "      <th>total_gasto</th>\n",
              "      <th>meses_ultima_interacao</th>\n",
              "      <th>cancelou</th>\n",
              "    </tr>\n",
              "    <tr>\n",
              "      <th>ligacoes_callcenter</th>\n",
              "      <th></th>\n",
              "      <th></th>\n",
              "      <th></th>\n",
              "      <th></th>\n",
              "      <th></th>\n",
              "      <th></th>\n",
              "      <th></th>\n",
              "    </tr>\n",
              "  </thead>\n",
              "  <tbody>\n",
              "    <tr>\n",
              "      <th>0.0</th>\n",
              "      <td>35.890550</td>\n",
              "      <td>31.873678</td>\n",
              "      <td>16.011883</td>\n",
              "      <td>11.303647</td>\n",
              "      <td>696.941234</td>\n",
              "      <td>13.634419</td>\n",
              "      <td>0.213475</td>\n",
              "    </tr>\n",
              "    <tr>\n",
              "      <th>1.0</th>\n",
              "      <td>35.993304</td>\n",
              "      <td>31.895352</td>\n",
              "      <td>16.089101</td>\n",
              "      <td>11.320249</td>\n",
              "      <td>698.782840</td>\n",
              "      <td>13.699366</td>\n",
              "      <td>0.212786</td>\n",
              "    </tr>\n",
              "    <tr>\n",
              "      <th>2.0</th>\n",
              "      <td>36.733929</td>\n",
              "      <td>31.754645</td>\n",
              "      <td>16.014807</td>\n",
              "      <td>11.312167</td>\n",
              "      <td>696.901322</td>\n",
              "      <td>13.711829</td>\n",
              "      <td>0.221769</td>\n",
              "    </tr>\n",
              "    <tr>\n",
              "      <th>3.0</th>\n",
              "      <td>40.559896</td>\n",
              "      <td>31.719828</td>\n",
              "      <td>15.997320</td>\n",
              "      <td>11.716255</td>\n",
              "      <td>679.738660</td>\n",
              "      <td>13.794679</td>\n",
              "      <td>0.312672</td>\n",
              "    </tr>\n",
              "    <tr>\n",
              "      <th>4.0</th>\n",
              "      <td>43.197955</td>\n",
              "      <td>31.184776</td>\n",
              "      <td>15.835186</td>\n",
              "      <td>12.579664</td>\n",
              "      <td>648.215543</td>\n",
              "      <td>14.287592</td>\n",
              "      <td>0.477984</td>\n",
              "    </tr>\n",
              "    <tr>\n",
              "      <th>5.0</th>\n",
              "      <td>42.162331</td>\n",
              "      <td>30.831370</td>\n",
              "      <td>15.675338</td>\n",
              "      <td>14.659123</td>\n",
              "      <td>566.900267</td>\n",
              "      <td>15.271640</td>\n",
              "      <td>0.923180</td>\n",
              "    </tr>\n",
              "    <tr>\n",
              "      <th>6.0</th>\n",
              "      <td>41.567859</td>\n",
              "      <td>30.517123</td>\n",
              "      <td>15.552702</td>\n",
              "      <td>14.924911</td>\n",
              "      <td>548.751885</td>\n",
              "      <td>15.496195</td>\n",
              "      <td>1.000000</td>\n",
              "    </tr>\n",
              "    <tr>\n",
              "      <th>7.0</th>\n",
              "      <td>41.367307</td>\n",
              "      <td>30.516302</td>\n",
              "      <td>15.506887</td>\n",
              "      <td>15.008593</td>\n",
              "      <td>550.554444</td>\n",
              "      <td>15.492102</td>\n",
              "      <td>1.000000</td>\n",
              "    </tr>\n",
              "    <tr>\n",
              "      <th>8.0</th>\n",
              "      <td>41.538153</td>\n",
              "      <td>30.494213</td>\n",
              "      <td>15.452690</td>\n",
              "      <td>14.995930</td>\n",
              "      <td>548.480734</td>\n",
              "      <td>15.455551</td>\n",
              "      <td>1.000000</td>\n",
              "    </tr>\n",
              "    <tr>\n",
              "      <th>9.0</th>\n",
              "      <td>41.565707</td>\n",
              "      <td>30.490368</td>\n",
              "      <td>15.525590</td>\n",
              "      <td>15.122830</td>\n",
              "      <td>547.738446</td>\n",
              "      <td>15.562274</td>\n",
              "      <td>1.000000</td>\n",
              "    </tr>\n",
              "    <tr>\n",
              "      <th>10.0</th>\n",
              "      <td>41.538601</td>\n",
              "      <td>30.754903</td>\n",
              "      <td>15.586321</td>\n",
              "      <td>15.013804</td>\n",
              "      <td>551.607195</td>\n",
              "      <td>15.567520</td>\n",
              "      <td>1.000000</td>\n",
              "    </tr>\n",
              "  </tbody>\n",
              "</table>\n",
              "</div>\n",
              "    <div class=\"colab-df-buttons\">\n",
              "\n",
              "  <div class=\"colab-df-container\">\n",
              "    <button class=\"colab-df-convert\" onclick=\"convertToInteractive('df-b8c78f17-5c07-4710-94ef-5b07b22a5500')\"\n",
              "            title=\"Convert this dataframe to an interactive table.\"\n",
              "            style=\"display:none;\">\n",
              "\n",
              "  <svg xmlns=\"http://www.w3.org/2000/svg\" height=\"24px\" viewBox=\"0 -960 960 960\">\n",
              "    <path d=\"M120-120v-720h720v720H120Zm60-500h600v-160H180v160Zm220 220h160v-160H400v160Zm0 220h160v-160H400v160ZM180-400h160v-160H180v160Zm440 0h160v-160H620v160ZM180-180h160v-160H180v160Zm440 0h160v-160H620v160Z\"/>\n",
              "  </svg>\n",
              "    </button>\n",
              "\n",
              "  <style>\n",
              "    .colab-df-container {\n",
              "      display:flex;\n",
              "      gap: 12px;\n",
              "    }\n",
              "\n",
              "    .colab-df-convert {\n",
              "      background-color: #E8F0FE;\n",
              "      border: none;\n",
              "      border-radius: 50%;\n",
              "      cursor: pointer;\n",
              "      display: none;\n",
              "      fill: #1967D2;\n",
              "      height: 32px;\n",
              "      padding: 0 0 0 0;\n",
              "      width: 32px;\n",
              "    }\n",
              "\n",
              "    .colab-df-convert:hover {\n",
              "      background-color: #E2EBFA;\n",
              "      box-shadow: 0px 1px 2px rgba(60, 64, 67, 0.3), 0px 1px 3px 1px rgba(60, 64, 67, 0.15);\n",
              "      fill: #174EA6;\n",
              "    }\n",
              "\n",
              "    .colab-df-buttons div {\n",
              "      margin-bottom: 4px;\n",
              "    }\n",
              "\n",
              "    [theme=dark] .colab-df-convert {\n",
              "      background-color: #3B4455;\n",
              "      fill: #D2E3FC;\n",
              "    }\n",
              "\n",
              "    [theme=dark] .colab-df-convert:hover {\n",
              "      background-color: #434B5C;\n",
              "      box-shadow: 0px 1px 3px 1px rgba(0, 0, 0, 0.15);\n",
              "      filter: drop-shadow(0px 1px 2px rgba(0, 0, 0, 0.3));\n",
              "      fill: #FFFFFF;\n",
              "    }\n",
              "  </style>\n",
              "\n",
              "    <script>\n",
              "      const buttonEl =\n",
              "        document.querySelector('#df-b8c78f17-5c07-4710-94ef-5b07b22a5500 button.colab-df-convert');\n",
              "      buttonEl.style.display =\n",
              "        google.colab.kernel.accessAllowed ? 'block' : 'none';\n",
              "\n",
              "      async function convertToInteractive(key) {\n",
              "        const element = document.querySelector('#df-b8c78f17-5c07-4710-94ef-5b07b22a5500');\n",
              "        const dataTable =\n",
              "          await google.colab.kernel.invokeFunction('convertToInteractive',\n",
              "                                                    [key], {});\n",
              "        if (!dataTable) return;\n",
              "\n",
              "        const docLinkHtml = 'Like what you see? Visit the ' +\n",
              "          '<a target=\"_blank\" href=https://colab.research.google.com/notebooks/data_table.ipynb>data table notebook</a>'\n",
              "          + ' to learn more about interactive tables.';\n",
              "        element.innerHTML = '';\n",
              "        dataTable['output_type'] = 'display_data';\n",
              "        await google.colab.output.renderOutput(dataTable, element);\n",
              "        const docLink = document.createElement('div');\n",
              "        docLink.innerHTML = docLinkHtml;\n",
              "        element.appendChild(docLink);\n",
              "      }\n",
              "    </script>\n",
              "  </div>\n",
              "\n",
              "\n",
              "<div id=\"df-c10db2b1-49f5-4eeb-b3cd-a1c4de616616\">\n",
              "  <button class=\"colab-df-quickchart\" onclick=\"quickchart('df-c10db2b1-49f5-4eeb-b3cd-a1c4de616616')\"\n",
              "            title=\"Suggest charts.\"\n",
              "            style=\"display:none;\">\n",
              "\n",
              "<svg xmlns=\"http://www.w3.org/2000/svg\" height=\"24px\"viewBox=\"0 0 24 24\"\n",
              "     width=\"24px\">\n",
              "    <g>\n",
              "        <path d=\"M19 3H5c-1.1 0-2 .9-2 2v14c0 1.1.9 2 2 2h14c1.1 0 2-.9 2-2V5c0-1.1-.9-2-2-2zM9 17H7v-7h2v7zm4 0h-2V7h2v10zm4 0h-2v-4h2v4z\"/>\n",
              "    </g>\n",
              "</svg>\n",
              "  </button>\n",
              "\n",
              "<style>\n",
              "  .colab-df-quickchart {\n",
              "      --bg-color: #E8F0FE;\n",
              "      --fill-color: #1967D2;\n",
              "      --hover-bg-color: #E2EBFA;\n",
              "      --hover-fill-color: #174EA6;\n",
              "      --disabled-fill-color: #AAA;\n",
              "      --disabled-bg-color: #DDD;\n",
              "  }\n",
              "\n",
              "  [theme=dark] .colab-df-quickchart {\n",
              "      --bg-color: #3B4455;\n",
              "      --fill-color: #D2E3FC;\n",
              "      --hover-bg-color: #434B5C;\n",
              "      --hover-fill-color: #FFFFFF;\n",
              "      --disabled-bg-color: #3B4455;\n",
              "      --disabled-fill-color: #666;\n",
              "  }\n",
              "\n",
              "  .colab-df-quickchart {\n",
              "    background-color: var(--bg-color);\n",
              "    border: none;\n",
              "    border-radius: 50%;\n",
              "    cursor: pointer;\n",
              "    display: none;\n",
              "    fill: var(--fill-color);\n",
              "    height: 32px;\n",
              "    padding: 0;\n",
              "    width: 32px;\n",
              "  }\n",
              "\n",
              "  .colab-df-quickchart:hover {\n",
              "    background-color: var(--hover-bg-color);\n",
              "    box-shadow: 0 1px 2px rgba(60, 64, 67, 0.3), 0 1px 3px 1px rgba(60, 64, 67, 0.15);\n",
              "    fill: var(--button-hover-fill-color);\n",
              "  }\n",
              "\n",
              "  .colab-df-quickchart-complete:disabled,\n",
              "  .colab-df-quickchart-complete:disabled:hover {\n",
              "    background-color: var(--disabled-bg-color);\n",
              "    fill: var(--disabled-fill-color);\n",
              "    box-shadow: none;\n",
              "  }\n",
              "\n",
              "  .colab-df-spinner {\n",
              "    border: 2px solid var(--fill-color);\n",
              "    border-color: transparent;\n",
              "    border-bottom-color: var(--fill-color);\n",
              "    animation:\n",
              "      spin 1s steps(1) infinite;\n",
              "  }\n",
              "\n",
              "  @keyframes spin {\n",
              "    0% {\n",
              "      border-color: transparent;\n",
              "      border-bottom-color: var(--fill-color);\n",
              "      border-left-color: var(--fill-color);\n",
              "    }\n",
              "    20% {\n",
              "      border-color: transparent;\n",
              "      border-left-color: var(--fill-color);\n",
              "      border-top-color: var(--fill-color);\n",
              "    }\n",
              "    30% {\n",
              "      border-color: transparent;\n",
              "      border-left-color: var(--fill-color);\n",
              "      border-top-color: var(--fill-color);\n",
              "      border-right-color: var(--fill-color);\n",
              "    }\n",
              "    40% {\n",
              "      border-color: transparent;\n",
              "      border-right-color: var(--fill-color);\n",
              "      border-top-color: var(--fill-color);\n",
              "    }\n",
              "    60% {\n",
              "      border-color: transparent;\n",
              "      border-right-color: var(--fill-color);\n",
              "    }\n",
              "    80% {\n",
              "      border-color: transparent;\n",
              "      border-right-color: var(--fill-color);\n",
              "      border-bottom-color: var(--fill-color);\n",
              "    }\n",
              "    90% {\n",
              "      border-color: transparent;\n",
              "      border-bottom-color: var(--fill-color);\n",
              "    }\n",
              "  }\n",
              "</style>\n",
              "\n",
              "  <script>\n",
              "    async function quickchart(key) {\n",
              "      const quickchartButtonEl =\n",
              "        document.querySelector('#' + key + ' button');\n",
              "      quickchartButtonEl.disabled = true;  // To prevent multiple clicks.\n",
              "      quickchartButtonEl.classList.add('colab-df-spinner');\n",
              "      try {\n",
              "        const charts = await google.colab.kernel.invokeFunction(\n",
              "            'suggestCharts', [key], {});\n",
              "      } catch (error) {\n",
              "        console.error('Error during call to suggestCharts:', error);\n",
              "      }\n",
              "      quickchartButtonEl.classList.remove('colab-df-spinner');\n",
              "      quickchartButtonEl.classList.add('colab-df-quickchart-complete');\n",
              "    }\n",
              "    (() => {\n",
              "      let quickchartButtonEl =\n",
              "        document.querySelector('#df-c10db2b1-49f5-4eeb-b3cd-a1c4de616616 button');\n",
              "      quickchartButtonEl.style.display =\n",
              "        google.colab.kernel.accessAllowed ? 'block' : 'none';\n",
              "    })();\n",
              "  </script>\n",
              "</div>\n",
              "    </div>\n",
              "  </div>\n"
            ]
          },
          "metadata": {}
        }
      ]
    },
    {
      "cell_type": "markdown",
      "source": [
        "Podemos ver que o número de cancelamentos começa a crescer consideravelmente a partir da terceira ligação, tendo um salto para mais de 90% na quinta ligação e para 100% a partir da sexta, o que corresponde a mais de 20% do total de clientes. Vamos ver como ficariam os cancelamentos resolvendo mais esse problema."
      ],
      "metadata": {
        "id": "_WA7cZXrgI2F"
      }
    },
    {
      "cell_type": "code",
      "source": [
        "base = base[base[\"ligacoes_callcenter\"]<5]\n",
        "display(base[\"cancelou\"].value_counts(normalize=True))"
      ],
      "metadata": {
        "colab": {
          "base_uri": "https://localhost:8080/",
          "height": 69
        },
        "id": "yYmiw-oYgO8x",
        "outputId": "c2e8c4e9-9077-4cc4-c6a6-de8270bfe65b"
      },
      "execution_count": 12,
      "outputs": [
        {
          "output_type": "display_data",
          "data": {
            "text/plain": [
              "0.0    0.735916\n",
              "1.0    0.264084\n",
              "Name: cancelou, dtype: float64"
            ]
          },
          "metadata": {}
        }
      ]
    },
    {
      "cell_type": "markdown",
      "source": [
        "Resolvendo essa questão da necessidade excessiva de ligações para o callcenter, além da questão do contrato mensal, reduzimos a taxa de cancelamento de 46% para 26,5%, uma redução total de 30%."
      ],
      "metadata": {
        "id": "5YZhZ8uTgUCm"
      }
    },
    {
      "cell_type": "markdown",
      "source": [
        "Vamos ver agora o impacto que teríamos resolvendo as questões relacionadas à idade, ao atraso e ao sexo dos clientes."
      ],
      "metadata": {
        "id": "kW-m8yEDgYrk"
      }
    },
    {
      "cell_type": "code",
      "source": [
        "base = base[base[\"idade\"]<=50]\n",
        "display(base[\"cancelou\"].value_counts(normalize=True))"
      ],
      "metadata": {
        "id": "niCQXstEgV3k",
        "colab": {
          "base_uri": "https://localhost:8080/",
          "height": 69
        },
        "outputId": "a09a48d1-1ca2-4a42-8533-66d583556cc0"
      },
      "execution_count": 13,
      "outputs": [
        {
          "output_type": "display_data",
          "data": {
            "text/plain": [
              "0.0    0.813593\n",
              "1.0    0.186407\n",
              "Name: cancelou, dtype: float64"
            ]
          },
          "metadata": {}
        }
      ]
    },
    {
      "cell_type": "code",
      "source": [
        "base = base[base[\"dias_atraso\"]<=20]\n",
        "display(base[\"cancelou\"].value_counts(normalize=True))"
      ],
      "metadata": {
        "id": "ICAGS5higdKl",
        "colab": {
          "base_uri": "https://localhost:8080/",
          "height": 69
        },
        "outputId": "04c352fb-673f-43cf-d47a-ec9c40d33fa8"
      },
      "execution_count": 14,
      "outputs": [
        {
          "output_type": "display_data",
          "data": {
            "text/plain": [
              "0.0    0.879113\n",
              "1.0    0.120887\n",
              "Name: cancelou, dtype: float64"
            ]
          },
          "metadata": {}
        }
      ]
    },
    {
      "cell_type": "code",
      "source": [
        "base = base[base[\"sexo\"]==\"Male\"]\n",
        "display(base[\"cancelou\"].value_counts(normalize=True))"
      ],
      "metadata": {
        "id": "qCHxeuVGggHe",
        "colab": {
          "base_uri": "https://localhost:8080/",
          "height": 69
        },
        "outputId": "ec7a51b5-6f45-4853-c870-7168e61f4932"
      },
      "execution_count": 15,
      "outputs": [
        {
          "output_type": "display_data",
          "data": {
            "text/plain": [
              "0.0    0.918971\n",
              "1.0    0.081029\n",
              "Name: cancelou, dtype: float64"
            ]
          },
          "metadata": {}
        }
      ]
    },
    {
      "cell_type": "markdown",
      "source": [
        "Podemos concluir que atacar todas essas questões é fundamental para a empresa, pois, dos 56,7% de cancelamentos, 48,5% estão de alguma forma associados a elas."
      ],
      "metadata": {
        "id": "zaB8a7cPgjA6"
      }
    },
    {
      "cell_type": "markdown",
      "source": [
        "### 6. Solução"
      ],
      "metadata": {
        "id": "b7y_EnuocyZ3"
      }
    },
    {
      "cell_type": "markdown",
      "source": [
        "Com base nas análises feitas, podemos ver que possíveis passos a serem tomados visando diminuir a taxa de cancelamentos são:\n",
        "\n",
        "*   Oferecer um desconto nas modalidades de contrato **trimestral** e **anual** de forma a desmotivar a contratação do plano **mensal**;\n",
        "*   Realizar uma pesquisa para saber quais são os principais motivos das ligações que o callcenter recebe, visando otimizar essas ligações para reduzir o número de ocorrências;\n",
        "*   Entrar em contato com o cliente que atrasou o pagamento antes de esse atraso ultrapassar os **20 dias**;\n",
        "*   Realizar uma pesquisa de satisfação com os clientes para entender o porquê da maior taxa de cancelamento entre **mulheres** e pessoas **acima de 50 anos**, possivelmente sendo necessária uma adaptação dos serviços da empresa para melhor satisfazer esses públicos."
      ],
      "metadata": {
        "id": "lTDSNB-sgn5c"
      }
    }
  ]
}